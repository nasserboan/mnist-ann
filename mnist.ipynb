{
 "cells": [
  {
   "cell_type": "markdown",
   "metadata": {},
   "source": [
    "# MNIST\n",
    "\n",
    "The good old MNIST dataset.\n",
    "\n",
    "This notebook is inspired by Ciresan's et al implementation. \n",
    "\n",
    "[Paper -->> \"Deep Big Simple Neural Nets Excel on Handwritten Digit Recognition\"](https://arxiv.org/pdf/1003.0358.pdf)."
   ]
  },
  {
   "cell_type": "code",
   "execution_count": 53,
   "metadata": {},
   "outputs": [],
   "source": [
    "import keras\n",
    "from keras.datasets import mnist\n",
    "from keras.models import Sequential\n",
    "from keras.layers import Dense\n",
    "from keras.optimizers import SGD\n",
    "from keras.utils import to_categorical,plot_model\n",
    "\n",
    "from matplotlib import pyplot as plt\n",
    "import numpy as np"
   ]
  },
  {
   "cell_type": "markdown",
   "metadata": {},
   "source": [
    "##### Loading the data"
   ]
  },
  {
   "cell_type": "code",
   "execution_count": 54,
   "metadata": {},
   "outputs": [],
   "source": [
    "(x_train,y_train),(x_test,y_test) = mnist.load_data()"
   ]
  },
  {
   "cell_type": "markdown",
   "metadata": {},
   "source": [
    "##### Visual representation"
   ]
  },
  {
   "cell_type": "code",
   "execution_count": 55,
   "metadata": {},
   "outputs": [
    {
     "data": {
      "image/png": "[encoded data removed]",
      "text/plain": [
       "<Figure size 720x720 with 2 Axes>"
      ]
     },
     "metadata": {
      "needs_background": "light"
     },
     "output_type": "display_data"
    }
   ],
   "source": [
    "## getting a sample\n",
    "sample = x_train[np.random.randint(0,x_train.shape[0])]\n",
    "\n",
    "## plotting the sample\n",
    "\n",
    "def show_mnist(sample):\n",
    "\n",
    "    plt.figure(figsize = (10,10))\n",
    "    plt.imshow(sample,cmap = 'gray')\n",
    "    ax = plt.gca()\n",
    "\n",
    "    \n",
    "    plt.tick_params(axis='both',\n",
    "                   which='major',\n",
    "                   bottom=True,\n",
    "                   left=True,\n",
    "                   labelbottom=False,\n",
    "                   labelleft=False)\n",
    "\n",
    "    plt.tick_params(axis='both',\n",
    "                   which='minor',\n",
    "                   bottom=False,\n",
    "                   left=False,\n",
    "                   labelbottom=True,\n",
    "                   labelleft=True)\n",
    "\n",
    "    ax.set_xticks(np.arange(-.5, 28, 1))\n",
    "    ax.set_yticks(np.arange(-.5, 28, 1))\n",
    "\n",
    "    ax.set_xticks(np.arange(0, 28, 1), minor=True);\n",
    "    ax.set_xticklabels([str(i) for i in np.arange(0, 28, 1)], minor=True);\n",
    "    ax.set_yticks(np.arange(0, 28, 1), minor=True);\n",
    "    ax.set_yticklabels([str(i) for i in np.arange(0, 28, 1)], minor=True);\n",
    "\n",
    "    ax.grid(color='black', linestyle='-', linewidth=1.5)\n",
    "    plt.colorbar(fraction=0.046, pad=0.04, ticks=[0,32,64,96,128,160,192,224,255])\n",
    "    plt.show()\n",
    "    \n",
    "show_mnist(sample)"
   ]
  },
  {
   "cell_type": "markdown",
   "metadata": {},
   "source": [
    "##### Preparing the dataset"
   ]
  },
  {
   "cell_type": "code",
   "execution_count": 56,
   "metadata": {},
   "outputs": [
    {
     "name": "stdout",
     "output_type": "stream",
     "text": [
      "x_train shape: (60000, 784)\n",
      "60000 train samples\n",
      "10000 test samples\n"
     ]
    }
   ],
   "source": [
    "## trasnforming data to the range [-1,1]\n",
    "x_train = (x_train/127.5)-1 \n",
    "x_test = (x_test/127.5)-1 \n",
    "\n",
    "## reshaping the dataset to be a one dimentional array\n",
    "x_train = x_train.reshape(60000,784).astype('float32')\n",
    "x_test = x_test.reshape(10000,784).astype('float32')\n",
    "\n",
    "print('x_train shape:', x_train.shape)\n",
    "print(x_train.shape[0], 'train samples')\n",
    "print(x_test.shape[0], 'test samples')"
   ]
  },
  {
   "cell_type": "code",
   "execution_count": 42,
   "metadata": {},
   "outputs": [],
   "source": [
    "## one-hot encoding the Y variable so we can uyse categorical_crossentropy\n",
    "y_train = to_categorical(y_train, 10)\n",
    "y_test = to_categorical(y_test, 10)"
   ]
  },
  {
   "cell_type": "markdown",
   "metadata": {},
   "source": [
    "##### Modelling"
   ]
  },
  {
   "cell_type": "code",
   "execution_count": 58,
   "metadata": {},
   "outputs": [
    {
     "name": "stdout",
     "output_type": "stream",
     "text": [
      "Model: \"sequential_6\"\n",
      "_________________________________________________________________\n",
      "Layer (type)                 Output Shape              Param #   \n",
      "=================================================================\n",
      "dense_31 (Dense)             (None, 2500)              1962500   \n",
      "_________________________________________________________________\n",
      "dense_32 (Dense)             (None, 2000)              5002000   \n",
      "_________________________________________________________________\n",
      "dense_33 (Dense)             (None, 1500)              3001500   \n",
      "_________________________________________________________________\n",
      "dense_34 (Dense)             (None, 1000)              1501000   \n",
      "_________________________________________________________________\n",
      "dense_35 (Dense)             (None, 500)               500500    \n",
      "_________________________________________________________________\n",
      "dense_36 (Dense)             (None, 10)                5010      \n",
      "=================================================================\n",
      "Total params: 11,972,510\n",
      "Trainable params: 11,972,510\n",
      "Non-trainable params: 0\n",
      "_________________________________________________________________\n"
     ]
    }
   ],
   "source": [
    "## creating the model\n",
    "model = Sequential()\n",
    "\n",
    "## adding a dense layer of 2500 neurons with tanh activation an weights initialize with Xavier Glorot normal distribution\n",
    "model.add(Dense(2500,input_shape=(784,),activation='tanh',kernel_initializer='glorot_normal'))\n",
    "model.add(Dense(2000,activation='tanh',kernel_initializer='glorot_normal'))\n",
    "model.add(Dense(1500,activation='tanh',kernel_initializer='glorot_normal'))\n",
    "model.add(Dense(1000,activation='tanh',kernel_initializer='glorot_normal'))\n",
    "model.add(Dense(500,activation='tanh',kernel_initializer='glorot_normal'))\n",
    "\n",
    "## final layers\n",
    "model.add(Dense(10, activation='softmax'))\n",
    "\n",
    "## compiling the model\n",
    "model.compile(loss=keras.losses.categorical_crossentropy,optimizer=SGD(lr=0.1),metrics=['accuracy'])\n",
    "\n",
    "plot_model(model,to_file='model.png',show_shapes=True)\n",
    "model.summary()"
   ]
  },
  {
   "cell_type": "code",
   "execution_count": 44,
   "metadata": {},
   "outputs": [
    {
     "name": "stdout",
     "output_type": "stream",
     "text": [
      "Train on 60000 samples, validate on 10000 samples\n",
      "Epoch 1/20\n",
      "60000/60000 [==============================] - 41s 675us/step - loss: 13.8141 - accuracy: 0.1028 - val_loss: 17.5806 - val_accuracy: 0.0980\n",
      "Epoch 2/20\n",
      "60000/60000 [==============================] - 41s 682us/step - loss: 5.7382 - accuracy: 0.4421 - val_loss: 0.3380 - val_accuracy: 0.8984\n",
      "Epoch 3/20\n",
      "60000/60000 [==============================] - 41s 680us/step - loss: 0.2956 - accuracy: 0.9089 - val_loss: 0.2386 - val_accuracy: 0.9268\n",
      "Epoch 4/20\n",
      "60000/60000 [==============================] - 41s 680us/step - loss: 0.1722 - accuracy: 0.9460 - val_loss: 0.1477 - val_accuracy: 0.9562\n",
      "Epoch 5/20\n",
      "60000/60000 [==============================] - 41s 678us/step - loss: 0.1239 - accuracy: 0.9611 - val_loss: 0.1246 - val_accuracy: 0.9601\n",
      "Epoch 6/20\n",
      "60000/60000 [==============================] - 40s 670us/step - loss: 0.0983 - accuracy: 0.9692 - val_loss: 0.1014 - val_accuracy: 0.9674\n",
      "Epoch 7/20\n",
      "60000/60000 [==============================] - 38s 632us/step - loss: 0.0767 - accuracy: 0.9764 - val_loss: 0.1036 - val_accuracy: 0.9696\n",
      "Epoch 8/20\n",
      "60000/60000 [==============================] - 43s 724us/step - loss: 0.0611 - accuracy: 0.9809 - val_loss: 0.0985 - val_accuracy: 0.9709\n",
      "Epoch 9/20\n",
      "60000/60000 [==============================] - 45s 749us/step - loss: 0.0504 - accuracy: 0.9839 - val_loss: 0.0847 - val_accuracy: 0.9729\n",
      "Epoch 10/20\n",
      "60000/60000 [==============================] - 45s 750us/step - loss: 0.0436 - accuracy: 0.9857 - val_loss: 0.0793 - val_accuracy: 0.9758\n",
      "Epoch 11/20\n",
      "60000/60000 [==============================] - 43s 709us/step - loss: 0.0332 - accuracy: 0.9899 - val_loss: 0.0831 - val_accuracy: 0.9738\n",
      "Epoch 12/20\n",
      "60000/60000 [==============================] - 40s 669us/step - loss: 0.0272 - accuracy: 0.9916 - val_loss: 0.0772 - val_accuracy: 0.9765\n",
      "Epoch 13/20\n",
      "60000/60000 [==============================] - 41s 691us/step - loss: 0.0231 - accuracy: 0.9933 - val_loss: 0.0781 - val_accuracy: 0.9758\n",
      "Epoch 14/20\n",
      "60000/60000 [==============================] - 47s 791us/step - loss: 0.0174 - accuracy: 0.9954 - val_loss: 0.0658 - val_accuracy: 0.9800\n",
      "Epoch 15/20\n",
      "60000/60000 [==============================] - 44s 738us/step - loss: 0.0140 - accuracy: 0.9962 - val_loss: 0.0753 - val_accuracy: 0.9773\n",
      "Epoch 16/20\n",
      "60000/60000 [==============================] - 43s 720us/step - loss: 0.0106 - accuracy: 0.9975 - val_loss: 0.0727 - val_accuracy: 0.9783\n",
      "Epoch 17/20\n",
      "60000/60000 [==============================] - 41s 679us/step - loss: 0.0084 - accuracy: 0.9984 - val_loss: 0.0637 - val_accuracy: 0.9799\n",
      "Epoch 18/20\n",
      "60000/60000 [==============================] - 39s 654us/step - loss: 0.0068 - accuracy: 0.9987 - val_loss: 0.0751 - val_accuracy: 0.9782\n",
      "Epoch 19/20\n",
      "60000/60000 [==============================] - 40s 668us/step - loss: 0.0048 - accuracy: 0.9994 - val_loss: 0.0696 - val_accuracy: 0.9801\n",
      "Epoch 20/20\n",
      "60000/60000 [==============================] - 40s 660us/step - loss: 0.0038 - accuracy: 0.9995 - val_loss: 0.0667 - val_accuracy: 0.9814\n",
      "Test loss: 0.06666176018578117\n",
      "Test accuracy: 0.9814000129699707\n"
     ]
    }
   ],
   "source": [
    "## training\n",
    "\n",
    "history = model.fit(x_train, y_train,\n",
    "          batch_size=128,\n",
    "          epochs=20,\n",
    "          verbose=1,\n",
    "          validation_data=(x_test, y_test))\n",
    "\n",
    "score = model.evaluate(x_test, y_test, verbose=0)\n",
    "print('Test loss:', score[0])\n",
    "print('Test accuracy:', score[1])"
   ]
  },
  {
   "cell_type": "markdown",
   "metadata": {},
   "source": [
    "##### Evaluation"
   ]
  },
  {
   "cell_type": "code",
   "execution_count": 49,
   "metadata": {},
   "outputs": [],
   "source": [
    "loss = history.history['loss']\n",
    "val_loss = history.history['val_loss']\n",
    "acc = history.history['accuracy']\n",
    "val_acc = history.history['val_accuracy']"
   ]
  },
  {
   "cell_type": "code",
   "execution_count": 50,
   "metadata": {},
   "outputs": [
    {
     "data": {
      "image/png": "[encoded data removed]",
      "text/plain": [
       "<Figure size 1080x648 with 2 Axes>"
      ]
     },
     "metadata": {
      "needs_background": "light"
     },
     "output_type": "display_data"
    }
   ],
   "source": [
    "def generate_loss_curves(loss,val_loss,acc,val_acc):\n",
    "\n",
    "    '''\n",
    "    plot the loss and accuracy curves\n",
    "    '''\n",
    "\n",
    "    _, axs = plt.subplots(1,2,figsize=(15,9))\n",
    "\n",
    "    axs[0].plot(list(range(1,21)),loss,label='train_loss')\n",
    "    axs[0].plot(list(range(1,21)),val_loss,label='val_loss')\n",
    "    axs[0].legend()\n",
    "\n",
    "    axs[1].plot(list(range(1,21)),acc,label='train_accuracy')\n",
    "    axs[1].plot(list(range(1,21)),val_acc,label='val_accuracy')\n",
    "    axs[1].legend()\n",
    "\n",
    "    plt.show()\n",
    "    \n",
    "generate_loss_curves(loss,val_loss,acc,val_acc)"
   ]
  },
  {
   "cell_type": "markdown",
   "metadata": {},
   "source": [
    "The model created generelizes pretty well after three or four epochs, some tweaking may be necessary to achieve the paper\\'s acc (99.61%)."
   ]
  }
 ],
 "metadata": {
  "kernelspec": {
   "display_name": "Python 3.7.6 64-bit ('wine-quality': conda)",
   "language": "python",
   "name": "python37664bitwinequalitycondab9c7a75121f343d19cab1743b5b38668"
  },
  "language_info": {
   "codemirror_mode": {
    "name": "ipython",
    "version": 3
   },
   "file_extension": ".py",
   "mimetype": "text/x-python",
   "name": "python",
   "nbconvert_exporter": "python",
   "pygments_lexer": "ipython3",
   "version": "3.7.6"
  }
 },
 "nbformat": 4,
 "nbformat_minor": 4
}
